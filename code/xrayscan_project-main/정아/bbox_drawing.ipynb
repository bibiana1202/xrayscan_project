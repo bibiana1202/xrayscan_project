{
  "nbformat": 4,
  "nbformat_minor": 0,
  "metadata": {
    "colab": {
      "provenance": []
    },
    "kernelspec": {
      "name": "python3",
      "display_name": "Python 3"
    },
    "language_info": {
      "name": "python"
    }
  },
  "cells": [
    {
      "cell_type": "code",
      "source": [
        "import cv2\n",
        "from google.colab import drive\n",
        "drive.mount('/content/drive', force_remount=True)\n",
        "import os\n",
        "import zipfile\n",
        "\n",
        "# with zipfile.ZipFile('/content/drive/MyDrive/val.zip', 'r') as zip_ref:\n",
        "#     zip_ref.extractall('/content/images/')\n",
        "\n",
        "class_names = ['Aerosol','Alcohol','Awl','Axe','Bat','Battery',\"Bullet\"\n",
        ",\"Chisel\",\"Electronic cigarettes\",\"Electronic cigarettes(Liquid)\",\"Firecracker\"\n",
        ",\"Gun\",\"GunParts\",\"Hammer\",\"HandCuffs\",\"HDD\",\"Knife\",\"Laptop\"\n",
        ",\"Lighter\",\"Liquid\",\"Match\",\"MetalPipe\",\"NailClippers\",\"Plier\",\"PrtableGas\"\n",
        ",\"Saw\",\"Scissors\",\"Screwdriver\",\"SmartPhone\",\"SolidFuel\",\"Spanner\",\"SSD\"\n",
        ",\"SupplymentaryBattery\",\"TabletPC\",\"Thinner\",\"Throwing Knife\",\"USB\",\"ZippoOil\"]"
      ],
      "metadata": {
        "colab": {
          "base_uri": "https://localhost:8080/"
        },
        "id": "zr3u1Jxd8ajv",
        "outputId": "186f10c0-be8d-4868-fb98-d546765ebea1"
      },
      "execution_count": 24,
      "outputs": [
        {
          "output_type": "stream",
          "name": "stdout",
          "text": [
            "Mounted at /content/drive\n"
          ]
        }
      ]
    },
    {
      "cell_type": "code",
      "source": [
        "a = os.listdir('/content/images/origin_image')"
      ],
      "metadata": {
        "id": "3f4E_uKrSahg"
      },
      "execution_count": 25,
      "outputs": []
    },
    {
      "cell_type": "code",
      "source": [
        "b = [i[:-4] for i in a if i[-3:] == 'png']"
      ],
      "metadata": {
        "id": "PfMJUb8DZApO"
      },
      "execution_count": 26,
      "outputs": []
    },
    {
      "cell_type": "code",
      "source": [
        "b"
      ],
      "metadata": {
        "colab": {
          "base_uri": "https://localhost:8080/"
        },
        "id": "JUv1jvCqZMmh",
        "outputId": "d9757cda-3b56-4473-9ccb-7d8e6c80ad29"
      },
      "execution_count": 27,
      "outputs": [
        {
          "output_type": "execute_result",
          "data": {
            "text/plain": [
              "['H_8481.80-1090_02_720',\n",
              " 'H_8543.70-4000_08_389',\n",
              " 'H_8424.20-1000_17_004',\n",
              " 'H_8211.92-0000_03_391',\n",
              " 'H_9613.80-0000_23_578',\n",
              " 'H_8205.20-0000_01_840',\n",
              " 'H_8204.20-0000_09_213']"
            ]
          },
          "metadata": {},
          "execution_count": 27
        }
      ]
    },
    {
      "cell_type": "code",
      "execution_count": 32,
      "metadata": {
        "colab": {
          "base_uri": "https://localhost:8080/"
        },
        "id": "RG8Dej3k7svw",
        "outputId": "2fcea413-4a71-4afc-9003-25b7e652feb7"
      },
      "outputs": [
        {
          "output_type": "stream",
          "name": "stdout",
          "text": [
            "['0', '0.4942708333333333', '0.4203703703703704', '0.10833333333333334', '0.09259259259259259']\n",
            "['0', '0.49453125', '0.5787037037037037', '0.13177083333333334', '0.11851851851851852']\n",
            "['11', '0.65859375', '0.5268518518518519', '0.10677083333333333', '0.17592592592592593']\n",
            "['32', '0.5911458333333334', '0.5310185185185186', '0.075', '0.07685185185185185']\n",
            "['8', '0.54609375', '0.6', '0.07552083333333333', '0.018518518518518517']\n",
            "['8', '0.50859375', '0.5717592592592593', '0.050520833333333334', '0.062037037037037036']\n",
            "['7', '0.59921875', '0.46064814814814814', '0.11510416666666666', '0.0712962962962963']\n",
            "['14', '0.6130208333333333', '0.5175925925925926', '0.04895833333333333', '0.13148148148148148']\n",
            "['11', '0.6518229166666667', '0.5416666666666666', '0.1296875', '0.34814814814814815']\n",
            "['11', '0.5203125', '0.4675925925925926', '0.08854166666666667', '0.20555555555555555']\n",
            "['3', '0.41640625', '0.5800925925925926', '0.12760416666666666', '0.21944444444444444']\n",
            "['26', '0.5908854166666667', '0.42777777777777776', '0.10885416666666667', '0.05925925925925926']\n",
            "['35', '0.44817708333333334', '0.4185185185185185', '0.0328125', '0.06111111111111111']\n",
            "['35', '0.6028645833333334', '0.3990740740740741', '0.0328125', '0.05185185185185185']\n",
            "['7', '0.4921875', '0.350462962962963', '0.13958333333333334', '0.10462962962962963']\n",
            "['25', '0.5466145833333333', '0.5037037037037037', '0.1234375', '0.08333333333333333']\n",
            "['3', '0.49661458333333336', '0.6453703703703704', '0.15989583333333332', '0.12407407407407407']\n",
            "['10', '0.5317708333333333', '0.5523148148148148', '0.12708333333333333', '0.10277777777777777']\n",
            "['25', '0.4895833333333333', '0.42685185185185187', '0.13333333333333333', '0.15555555555555556']\n",
            "['18', '0.6028645833333334', '0.4027777777777778', '0.03177083333333333', '0.06851851851851852']\n",
            "['18', '0.6255208333333333', '0.5194444444444445', '0.025', '0.07037037037037037']\n",
            "['13', '0.4979166666666667', '0.6037037037037037', '0.18020833333333333', '0.1111111111111111']\n",
            "['32', '0.634375', '0.5175925925925926', '0.05625', '0.17407407407407408']\n",
            "['30', '0.5502604166666667', '0.5226851851851851', '0.0671875', '0.18981481481481483']\n",
            "['30', '0.40989583333333335', '0.5328703703703703', '0.030208333333333334', '0.20833333333333334']\n",
            "['18', '0.49505208333333334', '0.4842592592592593', '0.04010416666666667', '0.06666666666666667']\n"
          ]
        }
      ],
      "source": [
        "for name in b:\n",
        "\n",
        "  # 이미지 불러오기\n",
        "  image = cv2.imread('/content/images/origin_image/{}.png'.format(name))\n",
        "  #RGB 이미지를 BGR로 변환\n",
        "  imagee = cv2.cvtColor(image, cv2.COLOR_RGB2BGR)\n",
        "\n",
        "  file = open(\"/content/images/origin_image/{}.txt\".format(name), \"r\")\n",
        "\n",
        "  # detection 결과 시각화\n",
        "  import cv2\n",
        "  import matplotlib.pyplot as plt\n",
        "\n",
        "  while True:\n",
        "      line = file.readline()\n",
        "      if not line:\n",
        "          break\n",
        "      print(line.replace('\\n', '').split(' '))\n",
        "      data = line.replace('\\n', '').split(' ')\n",
        "      # a = []\n",
        "      # for i in data[-4:]:\n",
        "      #   a.append(float(i)*480)\n",
        "      a = [float(data[-4])*1920, float(data[-3])*1080, float(data[-2])*1920, float(data[-1])*1080]\n",
        "      bbox = [(int(a[0]-a[2]/2), int(a[1]-a[3]/2)), (int(a[0]+a[2]/2), int(a[1]+a[3]/2))]\n",
        "      cv2.rectangle(imagee, bbox[0], bbox[1], (0,0,255), 2)\n",
        "      # 클래스 이름과 confidence level을 사각형 위에 입력\n",
        "      cv2.putText(imagee, \"{}\".format(class_names[int(data[0])]), bbox[0], cv2.FONT_HERSHEY_SIMPLEX, 0.5, (0,0,255), 2)\n",
        "\n",
        "  # boundary box를 추가한 이미지 출력\n",
        "  #RGB 이미지를 BGR로 변환\n",
        "  image = cv2.cvtColor(imagee, cv2.COLOR_RGB2BGR)\n",
        "  cv2.imwrite('/content/{}.png'.format(name), image)"
      ]
    },
    {
      "cell_type": "code",
      "source": [],
      "metadata": {
        "id": "WVW6zyyFZiiD"
      },
      "execution_count": null,
      "outputs": []
    }
  ]
}